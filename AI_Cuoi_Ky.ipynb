{
 "cells": [
  {
   "cell_type": "code",
   "execution_count": 22,
   "metadata": {},
   "outputs": [],
   "source": [
    "# Import Libraries\n",
    "import tensorflow as tf\n",
    "import matplotlib.pyplot as plt\n",
    "import cv2 as cv\n",
    "import os\n",
    "import numpy as np\n",
    "from tensorflow.keras.preprocessing.image import ImageDataGenerator\n",
    "from tensorflow.keras.preprocessing import image\n",
    "from tensorflow.keras.optimizers import RMSprop\n",
    "from tensorflow.keras import layers\n",
    "import numpy as np\n",
    "import pandas as pd # Xu lý bảng\n",
    "import seaborn as sns # Vẽ biểu đồ thị của dữ liệu\n",
    "import matplotlib.pyplot as plt \n",
    "from sklearn.preprocessing import StandardScaler # Xử lý chuẩn hóa dữ liệu\n",
    "from sklearn.model_selection import train_test_split # Chia dữ liệu ra làm 2 phần\n",
    "from keras.layers import Dense, Activation, Dropout, BatchNormalization, LSTM    # LSTM  biên dạng ANN, BatchNormalization: cho nhỏ lại\n",
    "from keras.models import Sequential\n",
    "from tensorflow.keras.utils import to_categorical # Sử dung để làm nổi đối tượng cần phân loại\n",
    "from keras import callbacks \n",
    "from sklearn.metrics import precision_score, recall_score, confusion_matrix, classification_report, accuracy_score, f1_score # Để đo lường\n",
    "from keras.utils import np_utils\n",
    "from keras.callbacks import EarlyStopping\n",
    "from keras.utils.np_utils import to_categorical\n",
    "from keras.layers import Dropout, Flatten\n",
    "from keras.layers.convolutional import Conv2D, MaxPooling2D\n",
    "import cv2\n",
    "from sklearn.model_selection import train_test_split\n",
    "import pickle\n",
    "import random\n",
    "from tensorflow.keras.optimizers import RMSprop # toi uu\n",
    "from sklearn import preprocessing \n",
    "import keras\n",
    "from keras.datasets import boston_housing\n",
    "from keras.callbacks import EarlyStopping # dung lai ngay lap tuc\n",
    "from sklearn.preprocessing import scale # xu li du lieu\n",
    "from sklearn.preprocessing import StandardScaler # xu li du lieu"
   ]
  },
  {
   "cell_type": "code",
   "execution_count": 23,
   "metadata": {},
   "outputs": [
    {
     "name": "stdout",
     "output_type": "stream",
     "text": [
      "Found 2748 images belonging to 4 classes.\n",
      "Found 684 images belonging to 4 classes.\n"
     ]
    }
   ],
   "source": [
    "image_generator = ImageDataGenerator(rescale=1/255, validation_split=0.2)    \n",
    "\n",
    "train_dataset = image_generator.flow_from_directory(batch_size=32,\n",
    "                                                 directory=r\"C:\\Users\\TUAN\\Desktop\\AI_cuoiky\\lan_cuoi8\\train\",\n",
    "                                                 shuffle=True,\n",
    "                                                 target_size=(150,150), \n",
    "                                                 subset=\"training\",\n",
    "                                                 class_mode='categorical')\n",
    "\n",
    "validation_dataset = image_generator.flow_from_directory(batch_size=32,\n",
    "                                                 directory=r\"C:\\Users\\TUAN\\Desktop\\AI_cuoiky\\lan_cuoi8\\train\",\n",
    "                                                 shuffle=True,\n",
    "                                                 target_size=(150,150), \n",
    "                                                 subset=\"validation\",\n",
    "                                                 class_mode='categorical')\n"
   ]
  },
  {
   "cell_type": "code",
   "execution_count": 24,
   "metadata": {},
   "outputs": [],
   "source": [
    "import glob\n",
    "from keras.utils import load_img \n",
    "from PIL import Image\n",
    "adidas = glob.glob(r'C:\\Users\\TUAN\\Desktop\\AI_cuoiky\\lan_cuoi8\\train\\adidas/*.*')\n",
    "nike = glob.glob(r'C:\\Users\\TUAN\\Desktop\\AI_cuoiky\\lan_cuoi8\\train\\nike/*.*')\n",
    "converse = glob.glob(r'C:\\Users\\TUAN\\Desktop\\AI_cuoiky\\lan_cuoi8\\train\\converse/*.*')\n",
    "no_shoe = glob.glob(r'C:\\Users\\TUAN\\Desktop\\AI_cuoiky\\lan_cuoi8\\train\\no-shoe/*.*')"
   ]
  },
  {
   "cell_type": "code",
   "execution_count": 25,
   "metadata": {},
   "outputs": [
    {
     "data": {
      "text/plain": [
       "{'adidas': 0, 'converse': 1, 'nike': 2, 'no-shoe': 3}"
      ]
     },
     "execution_count": 25,
     "metadata": {},
     "output_type": "execute_result"
    }
   ],
   "source": [
    "train_dataset.class_indices"
   ]
  },
  {
   "cell_type": "code",
   "execution_count": 26,
   "metadata": {},
   "outputs": [
    {
     "data": {
      "text/plain": [
       "array([0, 0, 0, ..., 3, 3, 3])"
      ]
     },
     "execution_count": 26,
     "metadata": {},
     "output_type": "execute_result"
    }
   ],
   "source": [
    "train_dataset.classes"
   ]
  },
  {
   "cell_type": "code",
   "execution_count": 27,
   "metadata": {},
   "outputs": [
    {
     "name": "stdout",
     "output_type": "stream",
     "text": [
      "Model: \"sequential_3\"\n",
      "_________________________________________________________________\n",
      " Layer (type)                Output Shape              Param #   \n",
      "=================================================================\n",
      " conv2d_30 (Conv2D)          (None, 150, 150, 32)      896       \n",
      "                                                                 \n",
      " conv2d_31 (Conv2D)          (None, 150, 150, 32)      9248      \n",
      "                                                                 \n",
      " max_pooling2d_15 (MaxPoolin  (None, 75, 75, 32)       0         \n",
      " g2D)                                                            \n",
      "                                                                 \n",
      " conv2d_32 (Conv2D)          (None, 75, 75, 64)        18496     \n",
      "                                                                 \n",
      " conv2d_33 (Conv2D)          (None, 75, 75, 64)        36928     \n",
      "                                                                 \n",
      " max_pooling2d_16 (MaxPoolin  (None, 37, 37, 64)       0         \n",
      " g2D)                                                            \n",
      "                                                                 \n",
      " conv2d_34 (Conv2D)          (None, 37, 37, 128)       73856     \n",
      "                                                                 \n",
      " conv2d_35 (Conv2D)          (None, 37, 37, 128)       147584    \n",
      "                                                                 \n",
      " max_pooling2d_17 (MaxPoolin  (None, 18, 18, 128)      0         \n",
      " g2D)                                                            \n",
      "                                                                 \n",
      " conv2d_36 (Conv2D)          (None, 18, 18, 256)       295168    \n",
      "                                                                 \n",
      " conv2d_37 (Conv2D)          (None, 18, 18, 256)       590080    \n",
      "                                                                 \n",
      " max_pooling2d_18 (MaxPoolin  (None, 9, 9, 256)        0         \n",
      " g2D)                                                            \n",
      "                                                                 \n",
      " conv2d_38 (Conv2D)          (None, 9, 9, 512)         1180160   \n",
      "                                                                 \n",
      " conv2d_39 (Conv2D)          (None, 9, 9, 512)         2359808   \n",
      "                                                                 \n",
      " max_pooling2d_19 (MaxPoolin  (None, 4, 4, 512)        0         \n",
      " g2D)                                                            \n",
      "                                                                 \n",
      " flatten_3 (Flatten)         (None, 8192)              0         \n",
      "                                                                 \n",
      " dense_6 (Dense)             (None, 128)               1048704   \n",
      "                                                                 \n",
      " dense_7 (Dense)             (None, 4)                 516       \n",
      "                                                                 \n",
      "=================================================================\n",
      "Total params: 5,761,444\n",
      "Trainable params: 5,761,444\n",
      "Non-trainable params: 0\n",
      "_________________________________________________________________\n",
      "You must install pydot (`pip install pydot`) and install graphviz (see instructions at https://graphviz.gitlab.io/download/) for plot_model/model_to_dot to work.\n"
     ]
    }
   ],
   "source": [
    "from keras.layers import Conv2D, MaxPooling2D\n",
    "model = Sequential()\n",
    "model.add(Conv2D(32,(3,3), activation='relu',kernel_initializer='he_uniform',padding='same',input_shape=(150,150,3)))\n",
    "model.add(Conv2D(32,(3,3), activation='relu',kernel_initializer='he_uniform',padding='same'))\n",
    "model.add(MaxPooling2D(2,2))\n",
    "model.add(Dropout(0.2))\n",
    "\n",
    "model.add(Conv2D(64,(3,3), activation='relu',kernel_initializer='he_uniform',padding='same')) # 64 lan tich chap\n",
    "model.add(Conv2D(64,(3,3), activation='relu',kernel_initializer='he_uniform',padding='same'))\n",
    "model.add(MaxPooling2D(2,2))\n",
    "model.add(Dropout(0.2))\n",
    "\n",
    "model.add(Conv2D(128,(3,3), activation='relu',kernel_initializer='he_uniform',padding='same')) # 128 lan tich chap\n",
    "model.add(Conv2D(128,(3,3), activation='relu',kernel_initializer='he_uniform',padding='same'))\n",
    "model.add(MaxPooling2D(2,2))\n",
    "model.add(Dropout(0.2))\n",
    "\n",
    "model.add(Conv2D(256,(3,3), activation='relu',kernel_initializer='he_uniform',padding='same')) # 256 lan tich chap\n",
    "model.add(Conv2D(256,(3,3), activation='relu',kernel_initializer='he_uniform',padding='same'))\n",
    "model.add(MaxPooling2D(2,2))\n",
    "model.add(Dropout(0.2))\n",
    "\n",
    "model.add(Conv2D(512,(3,3), activation='relu',kernel_initializer='he_uniform',padding='same')) # 512 lan tich chap\n",
    "model.add(Conv2D(512,(3,3), activation='relu',kernel_initializer='he_uniform',padding='same'))\n",
    "model.add(MaxPooling2D(2,2))\n",
    "model.add(Dropout(0.2))\n",
    "\n",
    "from keras.layers import Dense, Activation, Flatten\n",
    "model.add(Flatten())\n",
    "model.add(Dense(128, activation = 'relu', kernel_initializer='he_uniform'))\n",
    "model.add(Dense(4))\n",
    "model.summary()\n",
    "\n",
    "from keras.utils.vis_utils import plot_model\n",
    "plot_model(model, to_file='model_plot.png', show_shapes=True, show_layer_names=True)\n"
   ]
  },
  {
   "cell_type": "code",
   "execution_count": 28,
   "metadata": {},
   "outputs": [
    {
     "name": "stdout",
     "output_type": "stream",
     "text": [
      "Epoch 1/10\n",
      " 2/86 [..............................] - ETA: 4:03 - loss: 247070.4844 - accuracy: 0.2812"
     ]
    },
    {
     "name": "stderr",
     "output_type": "stream",
     "text": [
      "c:\\Users\\TUAN\\AppData\\Local\\Programs\\Python\\Python310\\lib\\site-packages\\PIL\\Image.py:992: UserWarning: Palette images with Transparency expressed in bytes should be converted to RGBA images\n",
      "  warnings.warn(\n"
     ]
    },
    {
     "name": "stdout",
     "output_type": "stream",
     "text": [
      "86/86 [==============================] - 295s 3s/step - loss: 5754.3379 - accuracy: 0.5357 - val_loss: 0.1680 - val_accuracy: 0.4152\n",
      "Epoch 2/10\n",
      "86/86 [==============================] - 295s 3s/step - loss: 0.1106 - accuracy: 0.7194 - val_loss: 0.1430 - val_accuracy: 0.6067\n",
      "Epoch 3/10\n",
      "86/86 [==============================] - 293s 3s/step - loss: 0.1119 - accuracy: 0.7238 - val_loss: 0.1490 - val_accuracy: 0.6433\n",
      "Epoch 4/10\n",
      "86/86 [==============================] - 303s 4s/step - loss: 0.1026 - accuracy: 0.7511 - val_loss: 0.1431 - val_accuracy: 0.5921\n",
      "Epoch 5/10\n",
      "86/86 [==============================] - 302s 3s/step - loss: 0.0815 - accuracy: 0.8013 - val_loss: 0.1461 - val_accuracy: 0.5512\n",
      "Epoch 6/10\n",
      "86/86 [==============================] - 288s 3s/step - loss: 0.0611 - accuracy: 0.8584 - val_loss: 0.1257 - val_accuracy: 0.6491\n",
      "Epoch 7/10\n",
      "86/86 [==============================] - 286s 3s/step - loss: 0.0444 - accuracy: 0.9021 - val_loss: 0.1251 - val_accuracy: 0.6623\n",
      "Epoch 8/10\n",
      "86/86 [==============================] - 306s 4s/step - loss: 0.0352 - accuracy: 0.9414 - val_loss: 0.1378 - val_accuracy: 0.6418\n",
      "Epoch 9/10\n",
      "86/86 [==============================] - 296s 3s/step - loss: 0.0254 - accuracy: 0.9680 - val_loss: 0.1270 - val_accuracy: 0.6769\n",
      "Epoch 10/10\n",
      "86/86 [==============================] - 307s 4s/step - loss: 0.0197 - accuracy: 0.9771 - val_loss: 0.1317 - val_accuracy: 0.6652\n"
     ]
    }
   ],
   "source": [
    "# Train model\n",
    "model.compile(loss='mse',optimizer=RMSprop(),metrics=['accuracy'])\n",
    "es = EarlyStopping(monitor='val_loss', mode='min', verbose=1, patience=50)\n",
    "history=model.fit(train_dataset,batch_size=128,epochs=10,validation_data=validation_dataset,callbacks=es)"
   ]
  },
  {
   "cell_type": "code",
   "execution_count": 29,
   "metadata": {},
   "outputs": [
    {
     "data": {
      "image/png": "[encoded data removed]",
      "text/plain": [
       "<Figure size 432x288 with 1 Axes>"
      ]
     },
     "metadata": {
      "needs_background": "light"
     },
     "output_type": "display_data"
    }
   ],
   "source": [
    "# Draw plot\n",
    "plt.plot(history.history['accuracy'])\n",
    "plt.plot(history.history['val_accuracy'])\n",
    "plt.title('model accuracy')\n",
    "plt.ylabel('accuracy')\n",
    "plt.xlabel('epochs')\n",
    "plt.legend(['train','Validation'])\n",
    "plt.show()"
   ]
  },
  {
   "cell_type": "code",
   "execution_count": 30,
   "metadata": {},
   "outputs": [],
   "source": [
    "# Save model\n",
    "from tensorflow.keras.models import load_model\n",
    "model.save('Final.h5')\n",
    "model_ANN = load_model('Final.h5')"
   ]
  },
  {
   "cell_type": "code",
   "execution_count": 31,
   "metadata": {},
   "outputs": [
    {
     "name": "stdout",
     "output_type": "stream",
     "text": [
      "1/1 [==============================] - 0s 137ms/step\n",
      "adidas\n"
     ]
    },
    {
     "data": {
      "image/png": "[encoded data removed]",
      "text/plain": [
       "<Figure size 432x288 with 1 Axes>"
      ]
     },
     "metadata": {
      "needs_background": "light"
     },
     "output_type": "display_data"
    }
   ],
   "source": [
    "from tensorflow.keras.utils import load_img, img_to_array\n",
    "import numpy as np\n",
    "filename = r\"C:\\Users\\TUAN\\Desktop\\AI_cuoiky\\lan_cuoi8\\test\\adidas\\ADIDAS_68.png\"\n",
    "\n",
    "predict = ['adidas','nike','no_shoe','converse']\n",
    "predict = np.array(predict)\n",
    "img = load_img(filename,target_size=(150,150))\n",
    "plt.imshow(img)\n",
    "\n",
    "\n",
    "img = load_img(filename,target_size=(150,150))\n",
    "img = img_to_array(img)\n",
    "img = img.reshape(1,150,150,3)\n",
    "img = img.astype('float32')\n",
    "img = img/255\n",
    "\n",
    "result = np.argmax(model_ANN.predict(img),axis=-1)\n",
    "predict[result]\n",
    "\n",
    "if(result==0):\n",
    "    print(\"adidas\")\n",
    "if(result==2):\n",
    "    print(\"nike\")\n",
    "if(result==3):\n",
    "    print(\"no_shoe\")\n",
    "if(result==1):\n",
    "    print(\"converse\")"
   ]
  },
  {
   "cell_type": "code",
   "execution_count": null,
   "metadata": {},
   "outputs": [],
   "source": []
  }
 ],
 "metadata": {
  "kernelspec": {
   "display_name": "Python 3.10.2 64-bit",
   "language": "python",
   "name": "python3"
  },
  "language_info": {
   "codemirror_mode": {
    "name": "ipython",
    "version": 3
   },
   "file_extension": ".py",
   "mimetype": "text/x-python",
   "name": "python",
   "nbconvert_exporter": "python",
   "pygments_lexer": "ipython3",
   "version": "3.10.2"
  },
  "orig_nbformat": 4,
  "vscode": {
   "interpreter": {
    "hash": "1051211e2d7e5c62c38569d38a51f0bacce1278dea975611faa8722e14d5f049"
   }
  }
 },
 "nbformat": 4,
 "nbformat_minor": 2
}
